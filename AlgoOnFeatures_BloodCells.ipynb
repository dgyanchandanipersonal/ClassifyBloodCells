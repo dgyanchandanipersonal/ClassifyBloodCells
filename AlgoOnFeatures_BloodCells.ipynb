{
  "nbformat": 4,
  "nbformat_minor": 0,
  "metadata": {
    "colab": {
      "name": "AlgoOnFeatures-BloodCells.ipynb",
      "provenance": []
    },
    "kernelspec": {
      "name": "python3",
      "display_name": "Python 3"
    }
  },
  "cells": [
    {
      "cell_type": "code",
      "metadata": {
        "id": "fCAlvZruIdua"
      },
      "source": [
        "import pandas as pd"
      ],
      "execution_count": 1,
      "outputs": []
    },
    {
      "cell_type": "code",
      "metadata": {
        "id": "_oC2DDytIe-o"
      },
      "source": [
        "dfheal = pd.read_csv('https://raw.githubusercontent.com/dipeshgyanchandani/myproject/master/HealthyCellSheet')"
      ],
      "execution_count": 2,
      "outputs": []
    },
    {
      "cell_type": "code",
      "metadata": {
        "id": "pISlVh-NIhvI"
      },
      "source": [
        "dfinfec  = pd.read_csv('https://raw.githubusercontent.com/dipeshgyanchandani/myproject/master/InfectedCellSheet')"
      ],
      "execution_count": 3,
      "outputs": []
    },
    {
      "cell_type": "code",
      "metadata": {
        "id": "N1dQcxevIjIi"
      },
      "source": [
        "frames = [dfheal, dfinfec]"
      ],
      "execution_count": 4,
      "outputs": []
    },
    {
      "cell_type": "code",
      "metadata": {
        "id": "Xqc0iiBVIkBL"
      },
      "source": [
        "df = pd.concat(frames)"
      ],
      "execution_count": 5,
      "outputs": []
    },
    {
      "cell_type": "code",
      "metadata": {
        "id": "95-ogDerIlBE",
        "outputId": "92b2c5bb-4eb5-4d29-b715-b879f3cf4eb9",
        "colab": {
          "base_uri": "https://localhost:8080/",
          "height": 338
        }
      },
      "source": [
        "df.head()"
      ],
      "execution_count": 6,
      "outputs": [
        {
          "output_type": "execute_result",
          "data": {
            "text/html": [
              "<div>\n",
              "<style scoped>\n",
              "    .dataframe tbody tr th:only-of-type {\n",
              "        vertical-align: middle;\n",
              "    }\n",
              "\n",
              "    .dataframe tbody tr th {\n",
              "        vertical-align: top;\n",
              "    }\n",
              "\n",
              "    .dataframe thead th {\n",
              "        text-align: right;\n",
              "    }\n",
              "</style>\n",
              "<table border=\"1\" class=\"dataframe\">\n",
              "  <thead>\n",
              "    <tr style=\"text-align: right;\">\n",
              "      <th></th>\n",
              "      <th>s_entropy</th>\n",
              "      <th>entropy_simple</th>\n",
              "      <th>regionprop</th>\n",
              "      <th>m00</th>\n",
              "      <th>m10</th>\n",
              "      <th>m01</th>\n",
              "      <th>m20</th>\n",
              "      <th>m11</th>\n",
              "      <th>m02</th>\n",
              "      <th>m30</th>\n",
              "      <th>m21</th>\n",
              "      <th>m12</th>\n",
              "      <th>m03</th>\n",
              "      <th>mu20</th>\n",
              "      <th>mu11</th>\n",
              "      <th>mu02</th>\n",
              "      <th>mu30</th>\n",
              "      <th>mu21</th>\n",
              "      <th>mu12</th>\n",
              "      <th>mu03</th>\n",
              "      <th>nu20</th>\n",
              "      <th>nu11</th>\n",
              "      <th>nu02</th>\n",
              "      <th>nu30</th>\n",
              "      <th>Energy</th>\n",
              "      <th>MeanArea</th>\n",
              "      <th>StdArea</th>\n",
              "      <th>hu1</th>\n",
              "      <th>hu2</th>\n",
              "      <th>hu3</th>\n",
              "      <th>hu4</th>\n",
              "      <th>hu5</th>\n",
              "      <th>hu6</th>\n",
              "      <th>hu7</th>\n",
              "      <th>cor1</th>\n",
              "      <th>cor2</th>\n",
              "      <th>cor3</th>\n",
              "      <th>cor4</th>\n",
              "      <th>cor5</th>\n",
              "      <th>cor6</th>\n",
              "      <th>...</th>\n",
              "      <th>cor10</th>\n",
              "      <th>cor11</th>\n",
              "      <th>cor12</th>\n",
              "      <th>homo1</th>\n",
              "      <th>homo2</th>\n",
              "      <th>homo3</th>\n",
              "      <th>homo4</th>\n",
              "      <th>homo5</th>\n",
              "      <th>homo6</th>\n",
              "      <th>homo7</th>\n",
              "      <th>homo8</th>\n",
              "      <th>homo9</th>\n",
              "      <th>homo10</th>\n",
              "      <th>homo11</th>\n",
              "      <th>homo12</th>\n",
              "      <th>cont1</th>\n",
              "      <th>cont2</th>\n",
              "      <th>cont3</th>\n",
              "      <th>cont4</th>\n",
              "      <th>cont5</th>\n",
              "      <th>cont6</th>\n",
              "      <th>cont7</th>\n",
              "      <th>cont8</th>\n",
              "      <th>cont9</th>\n",
              "      <th>cont10</th>\n",
              "      <th>cont11</th>\n",
              "      <th>cont12</th>\n",
              "      <th>e1</th>\n",
              "      <th>e2</th>\n",
              "      <th>e3</th>\n",
              "      <th>e4</th>\n",
              "      <th>e5</th>\n",
              "      <th>e6</th>\n",
              "      <th>e7</th>\n",
              "      <th>e8</th>\n",
              "      <th>e9</th>\n",
              "      <th>e10</th>\n",
              "      <th>e11</th>\n",
              "      <th>e12</th>\n",
              "      <th>target</th>\n",
              "    </tr>\n",
              "  </thead>\n",
              "  <tbody>\n",
              "    <tr>\n",
              "      <th>0</th>\n",
              "      <td>5.505653</td>\n",
              "      <td>3.816228</td>\n",
              "      <td>0.001563</td>\n",
              "      <td>10409.107473</td>\n",
              "      <td>725349.666270</td>\n",
              "      <td>736581.986142</td>\n",
              "      <td>6.299332e+07</td>\n",
              "      <td>5.107057e+07</td>\n",
              "      <td>6.513482e+07</td>\n",
              "      <td>6.131145e+09</td>\n",
              "      <td>4.436775e+09</td>\n",
              "      <td>4.495156e+09</td>\n",
              "      <td>6.436036e+09</td>\n",
              "      <td>1.244795e+07</td>\n",
              "      <td>-2.575120e+05</td>\n",
              "      <td>1.301190e+07</td>\n",
              "      <td>6.661189e+06</td>\n",
              "      <td>1.505362e+07</td>\n",
              "      <td>-7.262627e+06</td>\n",
              "      <td>-1.464119e+07</td>\n",
              "      <td>0.114887</td>\n",
              "      <td>-0.002377</td>\n",
              "      <td>0.120092</td>\n",
              "      <td>0.000603</td>\n",
              "      <td>0.001362</td>\n",
              "      <td>-0.000657</td>\n",
              "      <td>-0.001324</td>\n",
              "      <td>0.234979</td>\n",
              "      <td>0.000050</td>\n",
              "      <td>3.588929e-05</td>\n",
              "      <td>4.352090e-09</td>\n",
              "      <td>1.681646e-15</td>\n",
              "      <td>1.113487e-11</td>\n",
              "      <td>-3.612141e-16</td>\n",
              "      <td>1.0</td>\n",
              "      <td>1.0</td>\n",
              "      <td>1.0</td>\n",
              "      <td>1.0</td>\n",
              "      <td>1.0</td>\n",
              "      <td>1.0</td>\n",
              "      <td>...</td>\n",
              "      <td>1.0</td>\n",
              "      <td>1.0</td>\n",
              "      <td>1.0</td>\n",
              "      <td>1.0</td>\n",
              "      <td>1.0</td>\n",
              "      <td>1.0</td>\n",
              "      <td>1.0</td>\n",
              "      <td>1.0</td>\n",
              "      <td>1.0</td>\n",
              "      <td>1.0</td>\n",
              "      <td>1.0</td>\n",
              "      <td>1.0</td>\n",
              "      <td>1.0</td>\n",
              "      <td>1.0</td>\n",
              "      <td>1.0</td>\n",
              "      <td>0.0</td>\n",
              "      <td>0.0</td>\n",
              "      <td>0.0</td>\n",
              "      <td>0.0</td>\n",
              "      <td>0.0</td>\n",
              "      <td>0.0</td>\n",
              "      <td>0.0</td>\n",
              "      <td>0.0</td>\n",
              "      <td>0.0</td>\n",
              "      <td>0.0</td>\n",
              "      <td>0.0</td>\n",
              "      <td>0.0</td>\n",
              "      <td>1.0</td>\n",
              "      <td>1.0</td>\n",
              "      <td>1.0</td>\n",
              "      <td>1.0</td>\n",
              "      <td>1.0</td>\n",
              "      <td>1.0</td>\n",
              "      <td>1.0</td>\n",
              "      <td>1.0</td>\n",
              "      <td>1.0</td>\n",
              "      <td>1.0</td>\n",
              "      <td>1.0</td>\n",
              "      <td>1.0</td>\n",
              "      <td>0</td>\n",
              "    </tr>\n",
              "    <tr>\n",
              "      <th>1</th>\n",
              "      <td>5.295425</td>\n",
              "      <td>3.670509</td>\n",
              "      <td>0.001616</td>\n",
              "      <td>9562.760251</td>\n",
              "      <td>619977.503293</td>\n",
              "      <td>630486.932150</td>\n",
              "      <td>5.046853e+07</td>\n",
              "      <td>4.121403e+07</td>\n",
              "      <td>5.144697e+07</td>\n",
              "      <td>4.602091e+09</td>\n",
              "      <td>3.369268e+09</td>\n",
              "      <td>3.380210e+09</td>\n",
              "      <td>4.694147e+09</td>\n",
              "      <td>1.027385e+07</td>\n",
              "      <td>3.379931e+05</td>\n",
              "      <td>9.878037e+06</td>\n",
              "      <td>-2.067921e+06</td>\n",
              "      <td>-2.022615e+06</td>\n",
              "      <td>2.057432e+05</td>\n",
              "      <td>-3.746908e+05</td>\n",
              "      <td>0.112348</td>\n",
              "      <td>0.003696</td>\n",
              "      <td>0.108020</td>\n",
              "      <td>-0.000231</td>\n",
              "      <td>-0.000226</td>\n",
              "      <td>0.000023</td>\n",
              "      <td>-0.000042</td>\n",
              "      <td>0.220368</td>\n",
              "      <td>0.000073</td>\n",
              "      <td>4.954735e-07</td>\n",
              "      <td>1.152308e-07</td>\n",
              "      <td>-8.325375e-16</td>\n",
              "      <td>7.019604e-10</td>\n",
              "      <td>-2.752103e-14</td>\n",
              "      <td>1.0</td>\n",
              "      <td>1.0</td>\n",
              "      <td>1.0</td>\n",
              "      <td>1.0</td>\n",
              "      <td>1.0</td>\n",
              "      <td>1.0</td>\n",
              "      <td>...</td>\n",
              "      <td>1.0</td>\n",
              "      <td>1.0</td>\n",
              "      <td>1.0</td>\n",
              "      <td>1.0</td>\n",
              "      <td>1.0</td>\n",
              "      <td>1.0</td>\n",
              "      <td>1.0</td>\n",
              "      <td>1.0</td>\n",
              "      <td>1.0</td>\n",
              "      <td>1.0</td>\n",
              "      <td>1.0</td>\n",
              "      <td>1.0</td>\n",
              "      <td>1.0</td>\n",
              "      <td>1.0</td>\n",
              "      <td>1.0</td>\n",
              "      <td>0.0</td>\n",
              "      <td>0.0</td>\n",
              "      <td>0.0</td>\n",
              "      <td>0.0</td>\n",
              "      <td>0.0</td>\n",
              "      <td>0.0</td>\n",
              "      <td>0.0</td>\n",
              "      <td>0.0</td>\n",
              "      <td>0.0</td>\n",
              "      <td>0.0</td>\n",
              "      <td>0.0</td>\n",
              "      <td>0.0</td>\n",
              "      <td>1.0</td>\n",
              "      <td>1.0</td>\n",
              "      <td>1.0</td>\n",
              "      <td>1.0</td>\n",
              "      <td>1.0</td>\n",
              "      <td>1.0</td>\n",
              "      <td>1.0</td>\n",
              "      <td>1.0</td>\n",
              "      <td>1.0</td>\n",
              "      <td>1.0</td>\n",
              "      <td>1.0</td>\n",
              "      <td>1.0</td>\n",
              "      <td>0</td>\n",
              "    </tr>\n",
              "    <tr>\n",
              "      <th>2</th>\n",
              "      <td>4.206139</td>\n",
              "      <td>2.915474</td>\n",
              "      <td>0.001474</td>\n",
              "      <td>6315.801103</td>\n",
              "      <td>576364.012388</td>\n",
              "      <td>338763.910250</td>\n",
              "      <td>5.960891e+07</td>\n",
              "      <td>3.411779e+07</td>\n",
              "      <td>2.378977e+07</td>\n",
              "      <td>6.588737e+09</td>\n",
              "      <td>3.713323e+09</td>\n",
              "      <td>2.495433e+09</td>\n",
              "      <td>1.895549e+09</td>\n",
              "      <td>7.011393e+06</td>\n",
              "      <td>3.203058e+06</td>\n",
              "      <td>5.619310e+06</td>\n",
              "      <td>-1.307056e+08</td>\n",
              "      <td>-6.855751e+07</td>\n",
              "      <td>-1.916909e+07</td>\n",
              "      <td>1.671308e+07</td>\n",
              "      <td>0.175771</td>\n",
              "      <td>0.080299</td>\n",
              "      <td>0.140872</td>\n",
              "      <td>-0.041231</td>\n",
              "      <td>-0.021626</td>\n",
              "      <td>-0.006047</td>\n",
              "      <td>0.005272</td>\n",
              "      <td>0.316644</td>\n",
              "      <td>0.027009</td>\n",
              "      <td>5.454365e-03</td>\n",
              "      <td>2.502652e-03</td>\n",
              "      <td>8.950399e-06</td>\n",
              "      <td>3.170164e-04</td>\n",
              "      <td>2.320842e-06</td>\n",
              "      <td>1.0</td>\n",
              "      <td>1.0</td>\n",
              "      <td>1.0</td>\n",
              "      <td>1.0</td>\n",
              "      <td>1.0</td>\n",
              "      <td>1.0</td>\n",
              "      <td>...</td>\n",
              "      <td>1.0</td>\n",
              "      <td>1.0</td>\n",
              "      <td>1.0</td>\n",
              "      <td>1.0</td>\n",
              "      <td>1.0</td>\n",
              "      <td>1.0</td>\n",
              "      <td>1.0</td>\n",
              "      <td>1.0</td>\n",
              "      <td>1.0</td>\n",
              "      <td>1.0</td>\n",
              "      <td>1.0</td>\n",
              "      <td>1.0</td>\n",
              "      <td>1.0</td>\n",
              "      <td>1.0</td>\n",
              "      <td>1.0</td>\n",
              "      <td>0.0</td>\n",
              "      <td>0.0</td>\n",
              "      <td>0.0</td>\n",
              "      <td>0.0</td>\n",
              "      <td>0.0</td>\n",
              "      <td>0.0</td>\n",
              "      <td>0.0</td>\n",
              "      <td>0.0</td>\n",
              "      <td>0.0</td>\n",
              "      <td>0.0</td>\n",
              "      <td>0.0</td>\n",
              "      <td>0.0</td>\n",
              "      <td>1.0</td>\n",
              "      <td>1.0</td>\n",
              "      <td>1.0</td>\n",
              "      <td>1.0</td>\n",
              "      <td>1.0</td>\n",
              "      <td>1.0</td>\n",
              "      <td>1.0</td>\n",
              "      <td>1.0</td>\n",
              "      <td>1.0</td>\n",
              "      <td>1.0</td>\n",
              "      <td>1.0</td>\n",
              "      <td>1.0</td>\n",
              "      <td>0</td>\n",
              "    </tr>\n",
              "    <tr>\n",
              "      <th>3</th>\n",
              "      <td>5.060883</td>\n",
              "      <td>3.507937</td>\n",
              "      <td>0.001533</td>\n",
              "      <td>11121.158172</td>\n",
              "      <td>780582.785444</td>\n",
              "      <td>787597.066799</td>\n",
              "      <td>6.879736e+07</td>\n",
              "      <td>5.450736e+07</td>\n",
              "      <td>6.963825e+07</td>\n",
              "      <td>6.807536e+09</td>\n",
              "      <td>4.761777e+09</td>\n",
              "      <td>4.768237e+09</td>\n",
              "      <td>6.896662e+09</td>\n",
              "      <td>1.400905e+07</td>\n",
              "      <td>-7.732758e+05</td>\n",
              "      <td>1.386086e+07</td>\n",
              "      <td>1.215732e+07</td>\n",
              "      <td>-1.880646e+06</td>\n",
              "      <td>-1.007402e+07</td>\n",
              "      <td>1.658801e+06</td>\n",
              "      <td>0.113268</td>\n",
              "      <td>-0.006252</td>\n",
              "      <td>0.112070</td>\n",
              "      <td>0.000932</td>\n",
              "      <td>-0.000144</td>\n",
              "      <td>-0.000772</td>\n",
              "      <td>0.000127</td>\n",
              "      <td>0.225339</td>\n",
              "      <td>0.000158</td>\n",
              "      <td>1.087077e-05</td>\n",
              "      <td>2.580188e-08</td>\n",
              "      <td>1.351620e-14</td>\n",
              "      <td>9.816505e-11</td>\n",
              "      <td>2.010513e-15</td>\n",
              "      <td>1.0</td>\n",
              "      <td>1.0</td>\n",
              "      <td>1.0</td>\n",
              "      <td>1.0</td>\n",
              "      <td>1.0</td>\n",
              "      <td>1.0</td>\n",
              "      <td>...</td>\n",
              "      <td>1.0</td>\n",
              "      <td>1.0</td>\n",
              "      <td>1.0</td>\n",
              "      <td>1.0</td>\n",
              "      <td>1.0</td>\n",
              "      <td>1.0</td>\n",
              "      <td>1.0</td>\n",
              "      <td>1.0</td>\n",
              "      <td>1.0</td>\n",
              "      <td>1.0</td>\n",
              "      <td>1.0</td>\n",
              "      <td>1.0</td>\n",
              "      <td>1.0</td>\n",
              "      <td>1.0</td>\n",
              "      <td>1.0</td>\n",
              "      <td>0.0</td>\n",
              "      <td>0.0</td>\n",
              "      <td>0.0</td>\n",
              "      <td>0.0</td>\n",
              "      <td>0.0</td>\n",
              "      <td>0.0</td>\n",
              "      <td>0.0</td>\n",
              "      <td>0.0</td>\n",
              "      <td>0.0</td>\n",
              "      <td>0.0</td>\n",
              "      <td>0.0</td>\n",
              "      <td>0.0</td>\n",
              "      <td>1.0</td>\n",
              "      <td>1.0</td>\n",
              "      <td>1.0</td>\n",
              "      <td>1.0</td>\n",
              "      <td>1.0</td>\n",
              "      <td>1.0</td>\n",
              "      <td>1.0</td>\n",
              "      <td>1.0</td>\n",
              "      <td>1.0</td>\n",
              "      <td>1.0</td>\n",
              "      <td>1.0</td>\n",
              "      <td>1.0</td>\n",
              "      <td>0</td>\n",
              "    </tr>\n",
              "    <tr>\n",
              "      <th>4</th>\n",
              "      <td>4.630955</td>\n",
              "      <td>3.209934</td>\n",
              "      <td>0.001548</td>\n",
              "      <td>10303.791891</td>\n",
              "      <td>826740.660603</td>\n",
              "      <td>676608.280415</td>\n",
              "      <td>7.953927e+07</td>\n",
              "      <td>5.076370e+07</td>\n",
              "      <td>5.660441e+07</td>\n",
              "      <td>8.511336e+09</td>\n",
              "      <td>4.702187e+09</td>\n",
              "      <td>3.999341e+09</td>\n",
              "      <td>5.387976e+09</td>\n",
              "      <td>1.320446e+07</td>\n",
              "      <td>-3.525014e+06</td>\n",
              "      <td>1.217428e+07</td>\n",
              "      <td>1.042040e+07</td>\n",
              "      <td>4.483524e+07</td>\n",
              "      <td>-7.945480e+07</td>\n",
              "      <td>7.212200e+07</td>\n",
              "      <td>0.124373</td>\n",
              "      <td>-0.033202</td>\n",
              "      <td>0.114670</td>\n",
              "      <td>0.000967</td>\n",
              "      <td>0.004160</td>\n",
              "      <td>-0.007373</td>\n",
              "      <td>0.006692</td>\n",
              "      <td>0.239043</td>\n",
              "      <td>0.004504</td>\n",
              "      <td>5.664289e-04</td>\n",
              "      <td>1.588135e-04</td>\n",
              "      <td>4.651730e-08</td>\n",
              "      <td>8.488138e-06</td>\n",
              "      <td>1.024688e-08</td>\n",
              "      <td>1.0</td>\n",
              "      <td>1.0</td>\n",
              "      <td>1.0</td>\n",
              "      <td>1.0</td>\n",
              "      <td>1.0</td>\n",
              "      <td>1.0</td>\n",
              "      <td>...</td>\n",
              "      <td>1.0</td>\n",
              "      <td>1.0</td>\n",
              "      <td>1.0</td>\n",
              "      <td>1.0</td>\n",
              "      <td>1.0</td>\n",
              "      <td>1.0</td>\n",
              "      <td>1.0</td>\n",
              "      <td>1.0</td>\n",
              "      <td>1.0</td>\n",
              "      <td>1.0</td>\n",
              "      <td>1.0</td>\n",
              "      <td>1.0</td>\n",
              "      <td>1.0</td>\n",
              "      <td>1.0</td>\n",
              "      <td>1.0</td>\n",
              "      <td>0.0</td>\n",
              "      <td>0.0</td>\n",
              "      <td>0.0</td>\n",
              "      <td>0.0</td>\n",
              "      <td>0.0</td>\n",
              "      <td>0.0</td>\n",
              "      <td>0.0</td>\n",
              "      <td>0.0</td>\n",
              "      <td>0.0</td>\n",
              "      <td>0.0</td>\n",
              "      <td>0.0</td>\n",
              "      <td>0.0</td>\n",
              "      <td>1.0</td>\n",
              "      <td>1.0</td>\n",
              "      <td>1.0</td>\n",
              "      <td>1.0</td>\n",
              "      <td>1.0</td>\n",
              "      <td>1.0</td>\n",
              "      <td>1.0</td>\n",
              "      <td>1.0</td>\n",
              "      <td>1.0</td>\n",
              "      <td>1.0</td>\n",
              "      <td>1.0</td>\n",
              "      <td>1.0</td>\n",
              "      <td>0</td>\n",
              "    </tr>\n",
              "  </tbody>\n",
              "</table>\n",
              "<p>5 rows × 83 columns</p>\n",
              "</div>"
            ],
            "text/plain": [
              "   s_entropy  entropy_simple  regionprop           m00  ...  e10  e11  e12  target\n",
              "0   5.505653        3.816228    0.001563  10409.107473  ...  1.0  1.0  1.0       0\n",
              "1   5.295425        3.670509    0.001616   9562.760251  ...  1.0  1.0  1.0       0\n",
              "2   4.206139        2.915474    0.001474   6315.801103  ...  1.0  1.0  1.0       0\n",
              "3   5.060883        3.507937    0.001533  11121.158172  ...  1.0  1.0  1.0       0\n",
              "4   4.630955        3.209934    0.001548  10303.791891  ...  1.0  1.0  1.0       0\n",
              "\n",
              "[5 rows x 83 columns]"
            ]
          },
          "metadata": {
            "tags": []
          },
          "execution_count": 6
        }
      ]
    },
    {
      "cell_type": "code",
      "metadata": {
        "id": "bVQ7At1QIl7i",
        "outputId": "c9505f5c-7119-4e63-afc9-21edb4bcbb42",
        "colab": {
          "base_uri": "https://localhost:8080/",
          "height": 275
        }
      },
      "source": [
        "df.describe"
      ],
      "execution_count": 7,
      "outputs": [
        {
          "output_type": "execute_result",
          "data": {
            "text/plain": [
              "<bound method NDFrame.describe of      s_entropy  entropy_simple  regionprop           m00  ...  e10  e11  e12  target\n",
              "0     5.505653        3.816228    0.001563  10409.107473  ...  1.0  1.0  1.0       0\n",
              "1     5.295425        3.670509    0.001616   9562.760251  ...  1.0  1.0  1.0       0\n",
              "2     4.206139        2.915474    0.001474   6315.801103  ...  1.0  1.0  1.0       0\n",
              "3     5.060883        3.507937    0.001533  11121.158172  ...  1.0  1.0  1.0       0\n",
              "4     4.630955        3.209934    0.001548  10303.791891  ...  1.0  1.0  1.0       0\n",
              "..         ...             ...         ...           ...  ...  ...  ...  ...     ...\n",
              "495   8.634920        5.985270    0.001641   9308.260819  ...  1.0  1.0  1.0       1\n",
              "496   8.019878        5.558956    0.001602   6493.610176  ...  1.0  1.0  1.0       1\n",
              "497   7.983560        5.533782    0.297120   6924.658881  ...  1.0  1.0  1.0       1\n",
              "498   8.469567        5.870657    0.277819   5653.183988  ...  1.0  1.0  1.0       1\n",
              "499   8.323032        5.769086    0.276889   9950.982320  ...  1.0  1.0  1.0       1\n",
              "\n",
              "[1000 rows x 83 columns]>"
            ]
          },
          "metadata": {
            "tags": []
          },
          "execution_count": 7
        }
      ]
    },
    {
      "cell_type": "code",
      "metadata": {
        "id": "nx9U-QUtInY8",
        "outputId": "65fe00d5-e7b5-4bb1-bf61-129d75263ee4",
        "colab": {
          "base_uri": "https://localhost:8080/",
          "height": 1000
        }
      },
      "source": [
        "df.info()"
      ],
      "execution_count": 8,
      "outputs": [
        {
          "output_type": "stream",
          "text": [
            "<class 'pandas.core.frame.DataFrame'>\n",
            "Int64Index: 1000 entries, 0 to 499\n",
            "Data columns (total 83 columns):\n",
            " #   Column          Non-Null Count  Dtype  \n",
            "---  ------          --------------  -----  \n",
            " 0   s_entropy       1000 non-null   float64\n",
            " 1   entropy_simple  1000 non-null   float64\n",
            " 2   regionprop      1000 non-null   float64\n",
            " 3   m00             1000 non-null   float64\n",
            " 4   m10             1000 non-null   float64\n",
            " 5   m01             1000 non-null   float64\n",
            " 6   m20             1000 non-null   float64\n",
            " 7   m11             1000 non-null   float64\n",
            " 8   m02             1000 non-null   float64\n",
            " 9   m30             1000 non-null   float64\n",
            " 10  m21             1000 non-null   float64\n",
            " 11  m12             1000 non-null   float64\n",
            " 12  m03             1000 non-null   float64\n",
            " 13  mu20            1000 non-null   float64\n",
            " 14  mu11            1000 non-null   float64\n",
            " 15  mu02            1000 non-null   float64\n",
            " 16  mu30            1000 non-null   float64\n",
            " 17  mu21            1000 non-null   float64\n",
            " 18  mu12            1000 non-null   float64\n",
            " 19  mu03            1000 non-null   float64\n",
            " 20  nu20            1000 non-null   float64\n",
            " 21  nu11            1000 non-null   float64\n",
            " 22  nu02            1000 non-null   float64\n",
            " 23  nu30            1000 non-null   float64\n",
            " 24  Energy          1000 non-null   float64\n",
            " 25  MeanArea        1000 non-null   float64\n",
            " 26  StdArea         1000 non-null   float64\n",
            " 27  hu1             1000 non-null   float64\n",
            " 28  hu2             1000 non-null   float64\n",
            " 29  hu3             1000 non-null   float64\n",
            " 30  hu4             1000 non-null   float64\n",
            " 31  hu5             1000 non-null   float64\n",
            " 32  hu6             1000 non-null   float64\n",
            " 33  hu7             1000 non-null   float64\n",
            " 34  cor1            1000 non-null   float64\n",
            " 35  cor2            1000 non-null   float64\n",
            " 36  cor3            1000 non-null   float64\n",
            " 37  cor4            1000 non-null   float64\n",
            " 38  cor5            1000 non-null   float64\n",
            " 39  cor6            1000 non-null   float64\n",
            " 40  cor7            1000 non-null   float64\n",
            " 41  cor8            1000 non-null   float64\n",
            " 42  cor9            1000 non-null   float64\n",
            " 43  cor10           1000 non-null   float64\n",
            " 44  cor11           1000 non-null   float64\n",
            " 45  cor12           1000 non-null   float64\n",
            " 46  homo1           1000 non-null   float64\n",
            " 47  homo2           1000 non-null   float64\n",
            " 48  homo3           1000 non-null   float64\n",
            " 49  homo4           1000 non-null   float64\n",
            " 50  homo5           1000 non-null   float64\n",
            " 51  homo6           1000 non-null   float64\n",
            " 52  homo7           1000 non-null   float64\n",
            " 53  homo8           1000 non-null   float64\n",
            " 54  homo9           1000 non-null   float64\n",
            " 55  homo10          1000 non-null   float64\n",
            " 56  homo11          1000 non-null   float64\n",
            " 57  homo12          1000 non-null   float64\n",
            " 58  cont1           1000 non-null   float64\n",
            " 59  cont2           1000 non-null   float64\n",
            " 60  cont3           1000 non-null   float64\n",
            " 61  cont4           1000 non-null   float64\n",
            " 62  cont5           1000 non-null   float64\n",
            " 63  cont6           1000 non-null   float64\n",
            " 64  cont7           1000 non-null   float64\n",
            " 65  cont8           1000 non-null   float64\n",
            " 66  cont9           1000 non-null   float64\n",
            " 67  cont10          1000 non-null   float64\n",
            " 68  cont11          1000 non-null   float64\n",
            " 69  cont12          1000 non-null   float64\n",
            " 70  e1              1000 non-null   float64\n",
            " 71  e2              1000 non-null   float64\n",
            " 72  e3              1000 non-null   float64\n",
            " 73  e4              1000 non-null   float64\n",
            " 74  e5              1000 non-null   float64\n",
            " 75  e6              1000 non-null   float64\n",
            " 76  e7              1000 non-null   float64\n",
            " 77  e8              1000 non-null   float64\n",
            " 78  e9              1000 non-null   float64\n",
            " 79  e10             1000 non-null   float64\n",
            " 80  e11             1000 non-null   float64\n",
            " 81  e12             1000 non-null   float64\n",
            " 82  target          1000 non-null   int64  \n",
            "dtypes: float64(82), int64(1)\n",
            "memory usage: 656.2 KB\n"
          ],
          "name": "stdout"
        }
      ]
    },
    {
      "cell_type": "code",
      "metadata": {
        "id": "wxSUHruhIodi"
      },
      "source": [
        "import numpy as np\n",
        "import matplotlib.pyplot as plt\n",
        "import matplotlib.colors \n",
        "import pandas as pd\n",
        "import seaborn as sns\n",
        "from tqdm import tqdm_notebook \n",
        "from sklearn.metrics import accuracy_score, mean_squared_error\n",
        "from sklearn.model_selection import train_test_split\n",
        "from sklearn.preprocessing import StandardScaler"
      ],
      "execution_count": 9,
      "outputs": []
    },
    {
      "cell_type": "code",
      "metadata": {
        "id": "eugzDEtCIprG"
      },
      "source": [
        "df=df.drop('cor1', axis = 1)\n",
        "df=df.drop('cor2', axis = 1)\n",
        "df=df.drop('cor3', axis = 1)\n",
        "df=df.drop('cor4', axis = 1)\n",
        "df=df.drop('cor5', axis = 1)\n",
        "df=df.drop('cor6', axis = 1)\n",
        "df=df.drop('cor7', axis = 1)\n",
        "df=df.drop('cor8', axis = 1)\n",
        "df=df.drop('cor9', axis = 1)\n",
        "df=df.drop('cor10', axis = 1)\n",
        "df=df.drop('cor11', axis = 1)\n",
        "df=df.drop('cor12', axis = 1)\n",
        "df=df.drop('homo1', axis = 1)\n",
        "df=df.drop('homo2', axis = 1)\n",
        "df=df.drop('homo3', axis = 1)\n",
        "df=df.drop('homo4', axis = 1)\n",
        "df=df.drop('homo5', axis = 1)\n",
        "df=df.drop('homo6', axis = 1)\n",
        "df=df.drop('homo7', axis = 1)\n",
        "df=df.drop('homo8', axis = 1)\n",
        "df=df.drop('homo9', axis = 1)\n",
        "df=df.drop('homo10', axis = 1)\n",
        "df=df.drop('homo11', axis = 1)\n",
        "df=df.drop('homo12', axis = 1)\n",
        "df=df.drop('cont1', axis = 1)\n",
        "df=df.drop('cont2', axis = 1)\n",
        "df=df.drop('cont3', axis = 1)\n",
        "df=df.drop('cont4', axis = 1)\n",
        "df=df.drop('cont5', axis = 1)\n",
        "df=df.drop('cont6', axis = 1)\n",
        "df=df.drop('cont7', axis = 1)\n",
        "df=df.drop('cont8', axis = 1)\n",
        "df=df.drop('cont9', axis = 1)\n",
        "df=df.drop('cont10', axis = 1)\n",
        "df=df.drop('cont11', axis = 1)\n",
        "df=df.drop('cont12', axis = 1)\n",
        "df=df.drop('e1', axis = 1)\n",
        "df=df.drop('e2', axis = 1)\n",
        "df=df.drop('e3', axis = 1)\n",
        "df=df.drop('e4', axis = 1)\n",
        "df=df.drop('e5', axis = 1)\n",
        "df=df.drop('e6', axis = 1)\n",
        "df=df.drop('e7', axis = 1)\n",
        "df=df.drop('e8', axis = 1)\n",
        "df=df.drop('e9', axis = 1)\n",
        "df=df.drop('e10', axis = 1)\n",
        "df=df.drop('e11', axis = 1)\n",
        "df=df.drop('e12', axis = 1)"
      ],
      "execution_count": 10,
      "outputs": []
    },
    {
      "cell_type": "code",
      "metadata": {
        "id": "wSUt55jDIrHG",
        "outputId": "e7f9bd7c-c65f-4658-8a63-fb315a3d73a5",
        "colab": {
          "base_uri": "https://localhost:8080/",
          "height": 731
        }
      },
      "source": [
        "df.info()"
      ],
      "execution_count": 11,
      "outputs": [
        {
          "output_type": "stream",
          "text": [
            "<class 'pandas.core.frame.DataFrame'>\n",
            "Int64Index: 1000 entries, 0 to 499\n",
            "Data columns (total 35 columns):\n",
            " #   Column          Non-Null Count  Dtype  \n",
            "---  ------          --------------  -----  \n",
            " 0   s_entropy       1000 non-null   float64\n",
            " 1   entropy_simple  1000 non-null   float64\n",
            " 2   regionprop      1000 non-null   float64\n",
            " 3   m00             1000 non-null   float64\n",
            " 4   m10             1000 non-null   float64\n",
            " 5   m01             1000 non-null   float64\n",
            " 6   m20             1000 non-null   float64\n",
            " 7   m11             1000 non-null   float64\n",
            " 8   m02             1000 non-null   float64\n",
            " 9   m30             1000 non-null   float64\n",
            " 10  m21             1000 non-null   float64\n",
            " 11  m12             1000 non-null   float64\n",
            " 12  m03             1000 non-null   float64\n",
            " 13  mu20            1000 non-null   float64\n",
            " 14  mu11            1000 non-null   float64\n",
            " 15  mu02            1000 non-null   float64\n",
            " 16  mu30            1000 non-null   float64\n",
            " 17  mu21            1000 non-null   float64\n",
            " 18  mu12            1000 non-null   float64\n",
            " 19  mu03            1000 non-null   float64\n",
            " 20  nu20            1000 non-null   float64\n",
            " 21  nu11            1000 non-null   float64\n",
            " 22  nu02            1000 non-null   float64\n",
            " 23  nu30            1000 non-null   float64\n",
            " 24  Energy          1000 non-null   float64\n",
            " 25  MeanArea        1000 non-null   float64\n",
            " 26  StdArea         1000 non-null   float64\n",
            " 27  hu1             1000 non-null   float64\n",
            " 28  hu2             1000 non-null   float64\n",
            " 29  hu3             1000 non-null   float64\n",
            " 30  hu4             1000 non-null   float64\n",
            " 31  hu5             1000 non-null   float64\n",
            " 32  hu6             1000 non-null   float64\n",
            " 33  hu7             1000 non-null   float64\n",
            " 34  target          1000 non-null   int64  \n",
            "dtypes: float64(34), int64(1)\n",
            "memory usage: 281.2 KB\n"
          ],
          "name": "stdout"
        }
      ]
    },
    {
      "cell_type": "code",
      "metadata": {
        "id": "yjHxlTFOIsUT"
      },
      "source": [
        "labels = df['target']\n",
        "df = df.drop('target', axis = 1)"
      ],
      "execution_count": 12,
      "outputs": []
    },
    {
      "cell_type": "code",
      "metadata": {
        "id": "vWghBLzAItgE",
        "outputId": "b187b84e-06b7-4c6e-80fc-8dbe90e9f147",
        "colab": {
          "base_uri": "https://localhost:8080/",
          "height": 714
        }
      },
      "source": [
        "df.info()"
      ],
      "execution_count": 13,
      "outputs": [
        {
          "output_type": "stream",
          "text": [
            "<class 'pandas.core.frame.DataFrame'>\n",
            "Int64Index: 1000 entries, 0 to 499\n",
            "Data columns (total 34 columns):\n",
            " #   Column          Non-Null Count  Dtype  \n",
            "---  ------          --------------  -----  \n",
            " 0   s_entropy       1000 non-null   float64\n",
            " 1   entropy_simple  1000 non-null   float64\n",
            " 2   regionprop      1000 non-null   float64\n",
            " 3   m00             1000 non-null   float64\n",
            " 4   m10             1000 non-null   float64\n",
            " 5   m01             1000 non-null   float64\n",
            " 6   m20             1000 non-null   float64\n",
            " 7   m11             1000 non-null   float64\n",
            " 8   m02             1000 non-null   float64\n",
            " 9   m30             1000 non-null   float64\n",
            " 10  m21             1000 non-null   float64\n",
            " 11  m12             1000 non-null   float64\n",
            " 12  m03             1000 non-null   float64\n",
            " 13  mu20            1000 non-null   float64\n",
            " 14  mu11            1000 non-null   float64\n",
            " 15  mu02            1000 non-null   float64\n",
            " 16  mu30            1000 non-null   float64\n",
            " 17  mu21            1000 non-null   float64\n",
            " 18  mu12            1000 non-null   float64\n",
            " 19  mu03            1000 non-null   float64\n",
            " 20  nu20            1000 non-null   float64\n",
            " 21  nu11            1000 non-null   float64\n",
            " 22  nu02            1000 non-null   float64\n",
            " 23  nu30            1000 non-null   float64\n",
            " 24  Energy          1000 non-null   float64\n",
            " 25  MeanArea        1000 non-null   float64\n",
            " 26  StdArea         1000 non-null   float64\n",
            " 27  hu1             1000 non-null   float64\n",
            " 28  hu2             1000 non-null   float64\n",
            " 29  hu3             1000 non-null   float64\n",
            " 30  hu4             1000 non-null   float64\n",
            " 31  hu5             1000 non-null   float64\n",
            " 32  hu6             1000 non-null   float64\n",
            " 33  hu7             1000 non-null   float64\n",
            "dtypes: float64(34)\n",
            "memory usage: 273.4 KB\n"
          ],
          "name": "stdout"
        }
      ]
    },
    {
      "cell_type": "code",
      "metadata": {
        "id": "wjIW7blyIupY"
      },
      "source": [
        "X_train, X_test, Y_train, Y_test = train_test_split(df,labels, stratify = labels, random_state = 0) "
      ],
      "execution_count": 14,
      "outputs": []
    },
    {
      "cell_type": "code",
      "metadata": {
        "id": "bJbCPozdIv5Y",
        "outputId": "cc7386e1-4540-42be-8a53-e56e4307679c",
        "colab": {
          "base_uri": "https://localhost:8080/",
          "height": 34
        }
      },
      "source": [
        "print(X_train.shape, X_test.shape, Y_train.shape, Y_test.shape)"
      ],
      "execution_count": 15,
      "outputs": [
        {
          "output_type": "stream",
          "text": [
            "(750, 34) (250, 34) (750,) (250,)\n"
          ],
          "name": "stdout"
        }
      ]
    },
    {
      "cell_type": "code",
      "metadata": {
        "id": "yDBkO9viIwwm"
      },
      "source": [
        "scaler = StandardScaler()"
      ],
      "execution_count": 16,
      "outputs": []
    },
    {
      "cell_type": "code",
      "metadata": {
        "id": "hVh9GoIWIyok"
      },
      "source": [
        "X_scaled_train = scaler.fit_transform(X_train)\n",
        "X_scaled_test = scaler.transform(X_test)"
      ],
      "execution_count": 17,
      "outputs": []
    },
    {
      "cell_type": "code",
      "metadata": {
        "id": "tGl69f_sIzpR"
      },
      "source": [
        "from sklearn.metrics import confusion_matrix\n",
        "from sklearn.model_selection import train_test_split\n",
        "from sklearn.linear_model import LogisticRegression"
      ],
      "execution_count": 18,
      "outputs": []
    },
    {
      "cell_type": "code",
      "metadata": {
        "id": "SgHkQdNtI4rx",
        "outputId": "4ed66369-1510-409d-f32c-3fa5c90412e6",
        "colab": {
          "base_uri": "https://localhost:8080/",
          "height": 190
        }
      },
      "source": [
        "# Build Linear Regression Algorithm\n",
        "from sklearn.linear_model import LogisticRegression\n",
        "lr = LogisticRegression()\n",
        "lr.fit(X_train,Y_train)\n",
        "# Here lr.score first predict the y_test and then gives the accuracy\n",
        "print(\"test accuracy {}\".format(lr.score(X_test,Y_test)))\n",
        "\n",
        "lr_score=lr.score(X_test,Y_test)"
      ],
      "execution_count": 29,
      "outputs": [
        {
          "output_type": "stream",
          "text": [
            "test accuracy 0.696\n"
          ],
          "name": "stdout"
        },
        {
          "output_type": "stream",
          "text": [
            "/usr/local/lib/python3.6/dist-packages/sklearn/linear_model/_logistic.py:940: ConvergenceWarning: lbfgs failed to converge (status=1):\n",
            "STOP: TOTAL NO. of ITERATIONS REACHED LIMIT.\n",
            "\n",
            "Increase the number of iterations (max_iter) or scale the data as shown in:\n",
            "    https://scikit-learn.org/stable/modules/preprocessing.html\n",
            "Please also refer to the documentation for alternative solver options:\n",
            "    https://scikit-learn.org/stable/modules/linear_model.html#logistic-regression\n",
            "  extra_warning_msg=_LOGISTIC_SOLVER_CONVERGENCE_MSG)\n"
          ],
          "name": "stderr"
        }
      ]
    },
    {
      "cell_type": "code",
      "metadata": {
        "id": "OKTn0qiJI973"
      },
      "source": [
        "from sklearn.metrics import confusion_matrix\n",
        "y_prediction = lr.predict(X_test)\n",
        "y_actual=Y_test\n",
        "cm = confusion_matrix(y_actual,y_prediction)"
      ],
      "execution_count": 20,
      "outputs": []
    },
    {
      "cell_type": "code",
      "metadata": {
        "id": "iYovYYY0JADE",
        "outputId": "f6b25f0e-ad37-4da5-8349-1868795d9bc5",
        "colab": {
          "base_uri": "https://localhost:8080/",
          "height": 335
        }
      },
      "source": [
        "f, ax = plt.subplots(figsize =(5,5))\n",
        "sns.heatmap(cm,annot = True,linewidths=0.5,linecolor=\"red\",fmt = \".0f\",ax=ax)\n",
        "plt.xlabel(\"y_prediction\")\n",
        "plt.ylabel(\"y_actual\")\n",
        "plt.show()"
      ],
      "execution_count": 21,
      "outputs": [
        {
          "output_type": "display_data",
          "data": {
            "image/png": "[encoded data removed]",
            "text/plain": [
              "<Figure size 360x360 with 2 Axes>"
            ]
          },
          "metadata": {
            "tags": [],
            "needs_background": "light"
          }
        }
      ]
    },
    {
      "cell_type": "code",
      "metadata": {
        "id": "fsJSqZmGJA-_",
        "outputId": "f619dd7a-f5a6-4306-8cd2-b116d7a2dc55",
        "colab": {
          "base_uri": "https://localhost:8080/",
          "height": 34
        }
      },
      "source": [
        "# Build Random Forest Classification Model\n",
        "from sklearn.ensemble import RandomForestClassifier\n",
        "# n_estimators = 100 means this model will use 100 subsets.\n",
        "rf = RandomForestClassifier(n_estimators = 100,random_state = 42)\n",
        "rf.fit(X_train,Y_train)\n",
        "print(\"random forest algo result: \",rf.score(X_test,Y_test))\n",
        "\n",
        "rf_score = rf.score(X_test,Y_test)"
      ],
      "execution_count": 28,
      "outputs": [
        {
          "output_type": "stream",
          "text": [
            "random forest algo result:  0.908\n"
          ],
          "name": "stdout"
        }
      ]
    },
    {
      "cell_type": "code",
      "metadata": {
        "id": "koxnwWJPJI_O"
      },
      "source": [
        "# Here we use confusion matrix to evaluate the Random Forest Classification Model\n",
        "from sklearn.metrics import confusion_matrix\n",
        "y_prediction = rf.predict(X_test)\n",
        "y_actual = Y_test\n",
        "cm = confusion_matrix(y_actual,y_prediction)"
      ],
      "execution_count": 23,
      "outputs": []
    },
    {
      "cell_type": "code",
      "metadata": {
        "id": "-JzuQKn5JKhq",
        "outputId": "43e3eaca-ef89-4c95-8f14-b8d6f590ab54",
        "colab": {
          "base_uri": "https://localhost:8080/",
          "height": 335
        }
      },
      "source": [
        "# Heatmap visualization of cunfusion matrix of the Random Forest Classification Model\n",
        "f, ax = plt.subplots(figsize =(5,5))\n",
        "sns.heatmap(cm,annot = True,linewidths=0.5,linecolor=\"red\",fmt = \".0f\",ax=ax)\n",
        "plt.xlabel(\"y_prediction\")\n",
        "plt.ylabel(\"y_actual\")\n",
        "plt.show()"
      ],
      "execution_count": 24,
      "outputs": [
        {
          "output_type": "display_data",
          "data": {
            "image/png": "[encoded data removed]",
            "text/plain": [
              "<Figure size 360x360 with 2 Axes>"
            ]
          },
          "metadata": {
            "tags": [],
            "needs_background": "light"
          }
        }
      ]
    },
    {
      "cell_type": "code",
      "metadata": {
        "id": "zS6qRhaeJLvG",
        "outputId": "f013ff85-bd88-4034-8446-e28abe4e99ed",
        "colab": {
          "base_uri": "https://localhost:8080/",
          "height": 486
        }
      },
      "source": [
        "class_name = (\"Logistic Regression\",\"Feed Forward\\nNeural Network\",\"Random Forest\",\"Res-Net-18\",\"Res-Net-50\",\"VGG-16\")\n",
        "class_score = (0.69,0.924,0.908,0.9623,0.9672,0.8770)\n",
        "y_pos= np.arange(len(class_score))\n",
        "colors = (\"red\",\"gray\",\"purple\",\"green\",\"orange\",\"blue\")\n",
        "plt.figure(figsize=(20,12))\n",
        "plt.bar(y_pos,class_score,color=colors)\n",
        "plt.xticks(y_pos,class_name,fontsize=20)\n",
        "plt.yticks(np.arange(0.00, 1.05, step=0.05))\n",
        "plt.ylabel('Accuracy')\n",
        "plt.grid()\n",
        "plt.title(\" Comparision of Implemented Algorithms\",fontsize=15)\n",
        "plt.savefig('graph.png')\n",
        "plt.show()"
      ],
      "execution_count": 25,
      "outputs": [
        {
          "output_type": "display_data",
          "data": {
            "image/png": "[encoded data removed]",
            "text/plain": [
              "<Figure size 1440x864 with 1 Axes>"
            ]
          },
          "metadata": {
            "tags": [],
            "needs_background": "light"
          }
        }
      ]
    },
    {
      "cell_type": "code",
      "metadata": {
        "id": "8s51iYHOJ9hn"
      },
      "source": [
        ""
      ],
      "execution_count": null,
      "outputs": []
    }
  ]
}